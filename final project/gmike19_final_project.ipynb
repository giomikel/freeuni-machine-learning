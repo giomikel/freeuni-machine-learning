{
 "cells": [
  {
   "cell_type": "markdown",
   "id": "ef7e6b8d",
   "metadata": {},
   "source": [
    "### Install libraries"
   ]
  },
  {
   "cell_type": "code",
   "execution_count": 52,
   "id": "c0f762fc",
   "metadata": {},
   "outputs": [],
   "source": [
    "# !pip3 install numpy\n",
    "# !pip3 install pandas\n",
    "# !pip3 install matplotlib\n",
    "# !pip3 install seaborn\n",
    "# !pip3 install sklearn\n",
    "# !pip3 install scipy\n",
    "# !pip3 install keras\n",
    "# !pip3 install tensorflow\n",
    "# !pip3 install scikit-image"
   ]
  },
  {
   "cell_type": "markdown",
   "id": "cf877102",
   "metadata": {},
   "source": [
    "### Import libraries"
   ]
  },
  {
   "cell_type": "code",
   "execution_count": 86,
   "id": "c018c781",
   "metadata": {},
   "outputs": [],
   "source": [
    "import matplotlib.pyplot as plt\n",
    "import math\n",
    "import numpy as np\n",
    "import matplotlib.pyplot as plt\n",
    "import keras\n",
    "import tensorflow as tf\n",
    "from PIL import Image\n",
    "from keras.models import Sequential\n",
    "from keras.layers.core import Flatten, Dense, Dropout\n",
    "from keras.layers.convolutional import Conv2D, MaxPooling2D\n",
    "%matplotlib inline"
   ]
  },
  {
   "cell_type": "markdown",
   "id": "22564cca",
   "metadata": {},
   "source": [
    "### Create dictionary for letters and their corresponding number\n",
    "### Define number of channels (one for each primary colour, e.g. RGB has 3), in our case 1 because colours wouldn't help much with letter recognition and image data is in grayscale."
   ]
  },
  {
   "cell_type": "code",
   "execution_count": 87,
   "id": "97cb90bd",
   "metadata": {},
   "outputs": [
    {
     "data": {
      "text/plain": [
       "([], [])"
      ]
     },
     "execution_count": 87,
     "metadata": {},
     "output_type": "execute_result"
    }
   ],
   "source": [
    "letter_numbers = {\n",
    "    'ა': 1, 'ბ': 2, 'გ': 3, 'დ': 4, 'ე': 5, 'ვ': 6, 'ზ': 7, 'თ': 8, 'ი': 9, 'კ': 10, 'ლ': 11, 'მ': 12,\n",
    "    'ნ': 13, 'ო': 14, 'პ': 15, 'ჟ': 16, 'რ': 17, 'ს': 18, 'ტ': 19, 'უ': 20, 'ფ': 21, 'ქ': 22, 'ღ': 23,\n",
    "    'ყ': 24, 'შ': 25, 'ჩ': 26, 'ც': 27, 'ძ': 28, 'წ': 29, 'ჭ': 30, 'ხ': 31, 'ჯ': 32, 'ჰ': 33\n",
    "}\n",
    "X = []\n",
    "y = []\n",
    "number_of_channels = 1\n",
    "X, y"
   ]
  },
  {
   "cell_type": "markdown",
   "id": "d37c06ea",
   "metadata": {},
   "source": [
    "### Load image of letter to numpy array to show how our data would be represented"
   ]
  },
  {
   "cell_type": "code",
   "execution_count": 88,
   "id": "27010776",
   "metadata": {},
   "outputs": [
    {
     "data": {
      "text/plain": [
       "((1, 100, 100, 1), (1,))"
      ]
     },
     "execution_count": 88,
     "metadata": {},
     "output_type": "execute_result"
    }
   ],
   "source": [
    "image_name = '4_aacadhn.ttf_fs_80_bc_256.ა.png'\n",
    "path_to_train = './images/train'\n",
    "image = Image.open(path_to_train + '/ა/' + image_name).convert('L')\n",
    "str_before_letter = '256.'\n",
    "image_letter = image_name[image_name.find(str_before_letter) + len(str_before_letter)]\n",
    "y.append(letter_numbers[image_letter])\n",
    "to_append = np.array(image.getdata(), dtype=np.uint8).reshape(image.size[0], image.size[1], number_of_channels)\n",
    "X.append(to_append)\n",
    "X = np.stack(X)\n",
    "y = np.array(y)\n",
    "X.shape, y.shape"
   ]
  },
  {
   "cell_type": "markdown",
   "id": "5644b4d7",
   "metadata": {},
   "source": [
    "### Shape of X numpy array would be number_of_images x image_width x image_height x number_of_channels\n",
    "### Using 8 bit unsigned integer to store values because each pixel value is in range 0-255 and if I decided to load data into numpy arrays the default 64 bit integer would take up lot more space, so uint8 is optimal and faster"
   ]
  },
  {
   "cell_type": "markdown",
   "id": "9e194f02",
   "metadata": {},
   "source": [
    "### Below is an image represented by grayscale pixel values\n",
    "### 0 (Black) to 255 (White)"
   ]
  },
  {
   "cell_type": "code",
   "execution_count": 89,
   "id": "7a84502b",
   "metadata": {},
   "outputs": [
    {
     "name": "stdout",
     "output_type": "stream",
     "text": [
      "[[255 255 255 ... 255 255 255]\n",
      " [255 255 255 ... 255 255 255]\n",
      " [255 255 255 ... 255 255 255]\n",
      " ...\n",
      " [255 255 255 ... 255 255 255]\n",
      " [255 255 255 ... 255 255 255]\n",
      " [255 255 255 ... 255 255 255]]\n"
     ]
    }
   ],
   "source": [
    "print(np.resize(image.getdata(), (100, 100)))"
   ]
  },
  {
   "cell_type": "markdown",
   "id": "2b0c2f51",
   "metadata": {},
   "source": [
    "### Visual representation of image"
   ]
  },
  {
   "cell_type": "code",
   "execution_count": 90,
   "id": "454f5dec",
   "metadata": {},
   "outputs": [
    {
     "name": "stdout",
     "output_type": "stream",
     "text": [
      "Image Width: 100 Image Height: 100\n"
     ]
    },
    {
     "data": {
      "image/png": "[encoded data removed]",
      "text/plain": [
       "<Figure size 432x288 with 1 Axes>"
      ]
     },
     "metadata": {
      "needs_background": "light"
     },
     "output_type": "display_data"
    }
   ],
   "source": [
    "width, height = image.size\n",
    "print(f'Image Width: {width}', f'Image Height: {height}')\n",
    "plt.imshow(image, cmap='gray')\n",
    "plt.title('Visual Image')\n",
    "plt.show()"
   ]
  },
  {
   "cell_type": "markdown",
   "id": "3e4a1598",
   "metadata": {},
   "source": [
    "### The image pixel values would need to be normalized, because large integers tend to slow down learning process, so it is computationally efficient to reduce values between 0-1 range. We do this by dividing each pixel value by maximum (255)"
   ]
  },
  {
   "cell_type": "code",
   "execution_count": 91,
   "id": "09e16e17",
   "metadata": {},
   "outputs": [
    {
     "data": {
      "text/plain": [
       "array([[[[1.],\n",
       "         [1.],\n",
       "         [1.],\n",
       "         ...,\n",
       "         [1.],\n",
       "         [1.],\n",
       "         [1.]],\n",
       "\n",
       "        [[1.],\n",
       "         [1.],\n",
       "         [1.],\n",
       "         ...,\n",
       "         [1.],\n",
       "         [1.],\n",
       "         [1.]],\n",
       "\n",
       "        [[1.],\n",
       "         [1.],\n",
       "         [1.],\n",
       "         ...,\n",
       "         [1.],\n",
       "         [1.],\n",
       "         [1.]],\n",
       "\n",
       "        ...,\n",
       "\n",
       "        [[1.],\n",
       "         [1.],\n",
       "         [1.],\n",
       "         ...,\n",
       "         [1.],\n",
       "         [1.],\n",
       "         [1.]],\n",
       "\n",
       "        [[1.],\n",
       "         [1.],\n",
       "         [1.],\n",
       "         ...,\n",
       "         [1.],\n",
       "         [1.],\n",
       "         [1.]],\n",
       "\n",
       "        [[1.],\n",
       "         [1.],\n",
       "         [1.],\n",
       "         ...,\n",
       "         [1.],\n",
       "         [1.],\n",
       "         [1.]]]], dtype=float32)"
      ]
     },
     "execution_count": 91,
     "metadata": {},
     "output_type": "execute_result"
    }
   ],
   "source": [
    "X = X.astype('float32')\n",
    "X = X / 255.0\n",
    "X"
   ]
  },
  {
   "cell_type": "markdown",
   "id": "eee1d889",
   "metadata": {},
   "source": [
    "### Pixel values can be transformed back into original 100x100 images if needed"
   ]
  },
  {
   "cell_type": "code",
   "execution_count": 93,
   "id": "a06989aa",
   "metadata": {},
   "outputs": [
    {
     "data": {
      "image/png": "[encoded data removed]",
      "text/plain": [
       "<Figure size 432x288 with 1 Axes>"
      ]
     },
     "metadata": {
      "needs_background": "light"
     },
     "output_type": "display_data"
    }
   ],
   "source": [
    "num_letters_to_display = 9\n",
    "num_to_display_sqrt = math.ceil(math.sqrt(num_letters_to_display))\n",
    "plt.imshow(X[0], cmap=plt.cm.binary_r)\n",
    "plt.title(list(letter_numbers.keys())[list(letter_numbers.values()).index(y[0])])\n",
    "plt.gca().axes.set_xticklabels([])\n",
    "plt.gca().axes.set_yticklabels([])\n",
    "plt.show()"
   ]
  },
  {
   "cell_type": "markdown",
   "id": "4c9fa051",
   "metadata": {},
   "source": [
    "### This part was for just showing data representation, I decided not to load images into numpy arrays as it took too much time"
   ]
  },
  {
   "cell_type": "markdown",
   "id": "766b217a",
   "metadata": {},
   "source": [
    "### As next step I define ImageDataGenerators to augment images to expand dataset, and as result there's more training examples. This prevents model from overfitting thus making it better at generalization and increasing prediction accuracy. It generates new images from existing data with different rotations, width/height shift and shearing (distortion along an axis). I also use ImageDataGenerator to rescale pixel values for reasons mentioned above."
   ]
  },
  {
   "cell_type": "code",
   "execution_count": 94,
   "id": "8b4c3bf2",
   "metadata": {},
   "outputs": [],
   "source": [
    "train_datagen = keras.preprocessing.image.ImageDataGenerator(\n",
    "    shear_range=0.2,\n",
    "    rotation_range=10,\n",
    "    width_shift_range=0.2,\n",
    "    height_shift_range=0.2,\n",
    "    fill_mode='nearest',\n",
    "    rescale=1/255.0\n",
    "    )\n",
    "\n",
    "validation_datagen = keras.preprocessing.image.ImageDataGenerator(rescale=1/255.0)"
   ]
  },
  {
   "cell_type": "markdown",
   "id": "bc79b4a4",
   "metadata": {},
   "source": [
    "### Use flow_from_directory to generate augmented images directly from local directory and feed it to model. It is more efficient as it saves time and memory by not loading all the data into arrays first. Images will get resized to target_size, training dataset contains 100x100 images so while it is faster to train model with smaller pictures there's also downside to it, by decreasing image size we lose some data but it is mostly negligible"
   ]
  },
  {
   "cell_type": "markdown",
   "id": "ea5af0c6",
   "metadata": {},
   "source": [
    "### class_mode='categorical' makes it so that labels are one hot encoded \n",
    "### shuffle=True is used so that the model doesn't memorize image sequence\n",
    "### color_mode='grayscale' converts image to have 1 channel\n",
    "### Setting batch_size to 1 because bigger values seemed to cause error and predict single letter for all images"
   ]
  },
  {
   "cell_type": "code",
   "execution_count": 95,
   "id": "183c5c87",
   "metadata": {},
   "outputs": [
    {
     "name": "stdout",
     "output_type": "stream",
     "text": [
      "Found 23232 images belonging to 33 classes.\n",
      "Found 8482 images belonging to 33 classes.\n"
     ]
    }
   ],
   "source": [
    "train_generator = train_datagen.flow_from_directory(\n",
    "    directory='./images/train',\n",
    "    target_size=(45, 45),\n",
    "    batch_size=1,\n",
    "    class_mode='categorical',\n",
    "    shuffle=True,\n",
    "    color_mode='grayscale'\n",
    ")\n",
    "\n",
    "validation_generator = validation_datagen.flow_from_directory(\n",
    "    directory='./images/test',\n",
    "    target_size=(45, 45),\n",
    "    batch_size=1,\n",
    "    class_mode='categorical',\n",
    "    shuffle=True,\n",
    "    color_mode='grayscale'\n",
    ")"
   ]
  },
  {
   "cell_type": "markdown",
   "id": "d610dcdc",
   "metadata": {},
   "source": [
    "#### Next is defining the model. I use Keras deep learning API to build Convolutional Neural Network (CNN). CNN is a deep learning algorithm that is used in image, speech and audio recognition problems. CNN is more effective in capturing spatial dependencies in an image compared to a simple multilayer perceptron. In CNN our input is image with the form of a matrix of pixels with corresponding height, width and depth (channels). A kernel is like a window which is moved over parts of input data at a time and calculates dot product between pixels and kernel weights.\n",
    "#### Sequential class allows us to build the model layer by layer. As first layer I use Conv2D convolutional layer with filters=32 which is dimension of the output array,  kernel_size=(3, 3) 3x3 2-dimensional kernel which is passed over the image, capturing details.\n",
    "#### We also have an activation function (like Sigmoid or ReLU) that decides whether given neuron should take part in prediction or not. In this case I use Scaled Exponential Linear Unit (SELU) that has self-normalizing properties and has better results than more widely-used ReLU\n",
    "#### After the convolutional layer I use 2x2 size MaxPooling layer which calculates maximum value of each 2x2 region in input. Pooling reduces amount of parameters in model, thus allowing faster computation, it also helps reduce overfit and capture low-level features.\n",
    "#### After adding 2 more pairs of Conv2D followed by MaxPooling2D, result is flattened and fed to regular NN a.k.a Fully Connected layer which then learns with features captured in previous layers.\n",
    "#### Between fully connected I use Dropout layer which turns off random nodes with given probability and thus prevents overfitting\n",
    "#### The last layer has softmax activation function often used in multi-classification that assigns probabilities to each class (33 classes in our case, 1 for each letter)\n",
    "#### As an optimizer I use Adam which is adaptive. Training with smaller learning rate to prevent getting suboptimal results\n",
    "#### Categorical crossentropy as loss function which is often used in multi-classification problems"
   ]
  },
  {
   "cell_type": "code",
   "execution_count": 24,
   "id": "6993cb71",
   "metadata": {},
   "outputs": [
    {
     "name": "stdout",
     "output_type": "stream",
     "text": [
      "Model: \"sequential_9\"\n",
      "_________________________________________________________________\n",
      "Layer (type)                 Output Shape              Param #   \n",
      "=================================================================\n",
      "conv2d_27 (Conv2D)           (None, 43, 43, 32)        320       \n",
      "_________________________________________________________________\n",
      "max_pooling2d_27 (MaxPooling (None, 21, 21, 32)        0         \n",
      "_________________________________________________________________\n",
      "conv2d_28 (Conv2D)           (None, 19, 19, 64)        18496     \n",
      "_________________________________________________________________\n",
      "max_pooling2d_28 (MaxPooling (None, 9, 9, 64)          0         \n",
      "_________________________________________________________________\n",
      "conv2d_29 (Conv2D)           (None, 7, 7, 128)         73856     \n",
      "_________________________________________________________________\n",
      "max_pooling2d_29 (MaxPooling (None, 3, 3, 128)         0         \n",
      "_________________________________________________________________\n",
      "flatten_7 (Flatten)          (None, 1152)              0         \n",
      "_________________________________________________________________\n",
      "dense_15 (Dense)             (None, 256)               295168    \n",
      "_________________________________________________________________\n",
      "dropout_8 (Dropout)          (None, 256)               0         \n",
      "_________________________________________________________________\n",
      "dense_16 (Dense)             (None, 33)                8481      \n",
      "=================================================================\n",
      "Total params: 396,321\n",
      "Trainable params: 396,321\n",
      "Non-trainable params: 0\n",
      "_________________________________________________________________\n"
     ]
    }
   ],
   "source": [
    "model = Sequential()\n",
    "model.add(Conv2D(filters=32, kernel_size=(3, 3),  input_shape = (45, 45, 1), activation = 'selu'))\n",
    "model.add(MaxPooling2D(pool_size = (2, 2)))\n",
    "\n",
    "model.add(Conv2D(filters=64, kernel_size=(3, 3), activation = 'selu'))\n",
    "model.add(MaxPooling2D(pool_size = (2, 2)))\n",
    "\n",
    "model.add(Conv2D(filters=128, kernel_size=(3, 3), activation = 'selu'))\n",
    "model.add(MaxPooling2D(pool_size = (2, 2)))\n",
    "\n",
    "model.add(Flatten())\n",
    "model.add(Dense(units = 256, activation = 'selu'))\n",
    "model.add(Dropout(0.3))\n",
    "model.add(Dense(units = 33, activation = 'softmax'))\n",
    "\n",
    "model.compile(optimizer = tf.keras.optimizers.Adam(learning_rate=0.0001), loss = 'categorical_crossentropy', metrics = ['accuracy'])\n",
    "\n",
    "model.summary()"
   ]
  },
  {
   "cell_type": "markdown",
   "id": "060f7582",
   "metadata": {},
   "source": [
    "### Next we train the model using generators and model defined above"
   ]
  },
  {
   "cell_type": "code",
   "execution_count": 25,
   "id": "4ffbd7a2",
   "metadata": {},
   "outputs": [
    {
     "name": "stdout",
     "output_type": "stream",
     "text": [
      "Epoch 1/120\n",
      "23232/23232 [==============================] - 258s 11ms/step - loss: 3.2500 - accuracy: 0.1017 - val_loss: 2.4196 - val_accuracy: 0.2986\n",
      "Epoch 2/120\n",
      "23232/23232 [==============================] - 291s 13ms/step - loss: 2.5752 - accuracy: 0.2573 - val_loss: 1.8328 - val_accuracy: 0.4715\n",
      "Epoch 3/120\n",
      "23232/23232 [==============================] - 294s 13ms/step - loss: 2.2508 - accuracy: 0.3382 - val_loss: 1.8649 - val_accuracy: 0.4757\n",
      "Epoch 4/120\n",
      "23232/23232 [==============================] - 294s 13ms/step - loss: 2.0531 - accuracy: 0.3979 - val_loss: 1.7016 - val_accuracy: 0.5322\n",
      "Epoch 5/120\n",
      "23232/23232 [==============================] - 293s 13ms/step - loss: 1.9196 - accuracy: 0.4332 - val_loss: 1.6834 - val_accuracy: 0.5507\n",
      "Epoch 6/120\n",
      "23232/23232 [==============================] - 297s 13ms/step - loss: 1.8163 - accuracy: 0.4660 - val_loss: 1.5323 - val_accuracy: 0.5759\n",
      "Epoch 7/120\n",
      "23232/23232 [==============================] - 300s 13ms/step - loss: 1.7284 - accuracy: 0.4910 - val_loss: 1.4190 - val_accuracy: 0.6138\n",
      "Epoch 8/120\n",
      "23232/23232 [==============================] - 324s 14ms/step - loss: 1.6567 - accuracy: 0.5099 - val_loss: 1.3735 - val_accuracy: 0.6244\n",
      "Epoch 9/120\n",
      "23232/23232 [==============================] - 299s 13ms/step - loss: 1.5838 - accuracy: 0.5281 - val_loss: 1.2697 - val_accuracy: 0.6605\n",
      "Epoch 10/120\n",
      "23232/23232 [==============================] - 273s 12ms/step - loss: 1.5224 - accuracy: 0.5432 - val_loss: 1.3316 - val_accuracy: 0.6441\n",
      "Epoch 11/120\n",
      "23232/23232 [==============================] - 274s 12ms/step - loss: 1.4768 - accuracy: 0.5610 - val_loss: 1.1407 - val_accuracy: 0.6819\n",
      "Epoch 12/120\n",
      "23232/23232 [==============================] - 280s 12ms/step - loss: 1.4266 - accuracy: 0.5703 - val_loss: 1.1523 - val_accuracy: 0.6730\n",
      "Epoch 13/120\n",
      "23232/23232 [==============================] - 278s 12ms/step - loss: 1.3815 - accuracy: 0.5836 - val_loss: 1.0703 - val_accuracy: 0.7016\n",
      "Epoch 14/120\n",
      "23232/23232 [==============================] - 279s 12ms/step - loss: 1.3291 - accuracy: 0.5978 - val_loss: 1.1179 - val_accuracy: 0.6827\n",
      "Epoch 15/120\n",
      "23232/23232 [==============================] - 284s 12ms/step - loss: 1.3128 - accuracy: 0.6049 - val_loss: 1.1462 - val_accuracy: 0.6813\n",
      "Epoch 16/120\n",
      "23232/23232 [==============================] - 283s 12ms/step - loss: 1.2678 - accuracy: 0.6172 - val_loss: 1.1670 - val_accuracy: 0.6765\n",
      "Epoch 17/120\n",
      "23232/23232 [==============================] - 282s 12ms/step - loss: 1.2433 - accuracy: 0.6242 - val_loss: 1.1839 - val_accuracy: 0.6705\n",
      "Epoch 18/120\n",
      "23232/23232 [==============================] - 280s 12ms/step - loss: 1.2271 - accuracy: 0.6272 - val_loss: 1.0774 - val_accuracy: 0.7003\n",
      "Epoch 19/120\n",
      "23232/23232 [==============================] - 283s 12ms/step - loss: 1.1867 - accuracy: 0.6365 - val_loss: 1.0315 - val_accuracy: 0.7172\n",
      "Epoch 20/120\n",
      "23232/23232 [==============================] - 285s 12ms/step - loss: 1.1753 - accuracy: 0.6418 - val_loss: 1.0117 - val_accuracy: 0.7208\n",
      "Epoch 21/120\n",
      "23232/23232 [==============================] - 285s 12ms/step - loss: 1.1399 - accuracy: 0.6513 - val_loss: 0.9189 - val_accuracy: 0.7433\n",
      "Epoch 22/120\n",
      "23232/23232 [==============================] - 285s 12ms/step - loss: 1.1217 - accuracy: 0.6537 - val_loss: 0.8628 - val_accuracy: 0.7536\n",
      "Epoch 23/120\n",
      "23232/23232 [==============================] - 283s 12ms/step - loss: 1.1058 - accuracy: 0.6645 - val_loss: 0.8971 - val_accuracy: 0.7403\n",
      "Epoch 24/120\n",
      "23232/23232 [==============================] - 285s 12ms/step - loss: 1.0738 - accuracy: 0.6696 - val_loss: 0.9155 - val_accuracy: 0.7341\n",
      "Epoch 25/120\n",
      "23232/23232 [==============================] - 283s 12ms/step - loss: 1.0726 - accuracy: 0.6691 - val_loss: 0.9331 - val_accuracy: 0.7448\n",
      "Epoch 26/120\n",
      "23232/23232 [==============================] - 282s 12ms/step - loss: 1.0502 - accuracy: 0.6764 - val_loss: 0.9269 - val_accuracy: 0.7410\n",
      "Epoch 27/120\n",
      "23232/23232 [==============================] - 283s 12ms/step - loss: 1.0245 - accuracy: 0.6829 - val_loss: 0.9287 - val_accuracy: 0.7521\n",
      "Epoch 28/120\n",
      "23232/23232 [==============================] - 281s 12ms/step - loss: 1.0237 - accuracy: 0.6845 - val_loss: 0.8358 - val_accuracy: 0.7736\n",
      "Epoch 29/120\n",
      "23232/23232 [==============================] - 283s 12ms/step - loss: 1.0151 - accuracy: 0.6881 - val_loss: 0.8396 - val_accuracy: 0.7766\n",
      "Epoch 30/120\n",
      "23232/23232 [==============================] - 284s 12ms/step - loss: 1.0023 - accuracy: 0.6917 - val_loss: 0.8941 - val_accuracy: 0.7590\n",
      "Epoch 31/120\n",
      "23232/23232 [==============================] - 277s 12ms/step - loss: 0.9819 - accuracy: 0.6947 - val_loss: 0.8378 - val_accuracy: 0.7746\n",
      "Epoch 32/120\n",
      "23232/23232 [==============================] - 280s 12ms/step - loss: 0.9775 - accuracy: 0.7002 - val_loss: 0.9463 - val_accuracy: 0.7511\n",
      "Epoch 33/120\n",
      "23232/23232 [==============================] - 284s 12ms/step - loss: 0.9675 - accuracy: 0.7017 - val_loss: 0.7670 - val_accuracy: 0.7943\n",
      "Epoch 34/120\n",
      "23232/23232 [==============================] - 285s 12ms/step - loss: 0.9532 - accuracy: 0.7066 - val_loss: 0.8302 - val_accuracy: 0.7746\n",
      "Epoch 35/120\n",
      "23232/23232 [==============================] - 285s 12ms/step - loss: 0.9492 - accuracy: 0.7066 - val_loss: 0.8251 - val_accuracy: 0.7801\n",
      "Epoch 36/120\n",
      "23232/23232 [==============================] - 282s 12ms/step - loss: 0.9320 - accuracy: 0.7100 - val_loss: 0.7611 - val_accuracy: 0.7985\n",
      "Epoch 37/120\n",
      "23232/23232 [==============================] - 279s 12ms/step - loss: 0.9301 - accuracy: 0.7117 - val_loss: 0.8085 - val_accuracy: 0.7773\n",
      "Epoch 38/120\n",
      "23232/23232 [==============================] - 281s 12ms/step - loss: 0.9195 - accuracy: 0.7143 - val_loss: 0.7838 - val_accuracy: 0.7863\n",
      "Epoch 39/120\n",
      "23232/23232 [==============================] - 283s 12ms/step - loss: 0.9229 - accuracy: 0.7139 - val_loss: 0.7744 - val_accuracy: 0.7907\n",
      "Epoch 40/120\n",
      "23232/23232 [==============================] - 279s 12ms/step - loss: 0.9094 - accuracy: 0.7201 - val_loss: 0.7738 - val_accuracy: 0.7876\n",
      "Epoch 41/120\n",
      "23232/23232 [==============================] - 283s 12ms/step - loss: 0.9016 - accuracy: 0.7210 - val_loss: 0.7601 - val_accuracy: 0.7999\n",
      "Epoch 42/120\n",
      "23232/23232 [==============================] - 283s 12ms/step - loss: 0.8918 - accuracy: 0.7248 - val_loss: 0.7877 - val_accuracy: 0.7972\n",
      "Epoch 43/120\n",
      "23232/23232 [==============================] - 284s 12ms/step - loss: 0.8793 - accuracy: 0.7293 - val_loss: 0.7957 - val_accuracy: 0.7903\n",
      "Epoch 44/120\n",
      "23232/23232 [==============================] - 283s 12ms/step - loss: 0.8767 - accuracy: 0.7274 - val_loss: 0.8315 - val_accuracy: 0.7835\n",
      "Epoch 45/120\n",
      "23232/23232 [==============================] - 283s 12ms/step - loss: 0.8823 - accuracy: 0.7252 - val_loss: 0.8462 - val_accuracy: 0.7845\n",
      "Epoch 46/120\n",
      "23232/23232 [==============================] - 291s 13ms/step - loss: 0.8610 - accuracy: 0.7309 - val_loss: 0.8915 - val_accuracy: 0.7837\n",
      "Epoch 47/120\n",
      "23232/23232 [==============================] - 281s 12ms/step - loss: 0.8664 - accuracy: 0.7300 - val_loss: 0.9040 - val_accuracy: 0.7782\n",
      "Epoch 48/120\n",
      "23232/23232 [==============================] - 282s 12ms/step - loss: 0.8595 - accuracy: 0.7331 - val_loss: 0.8717 - val_accuracy: 0.7741\n",
      "Epoch 49/120\n",
      "23232/23232 [==============================] - 281s 12ms/step - loss: 0.8550 - accuracy: 0.7345 - val_loss: 0.7941 - val_accuracy: 0.7969\n",
      "Epoch 50/120\n",
      "23232/23232 [==============================] - 282s 12ms/step - loss: 0.8544 - accuracy: 0.7358 - val_loss: 0.7654 - val_accuracy: 0.8016\n",
      "Epoch 51/120\n",
      "23232/23232 [==============================] - 281s 12ms/step - loss: 0.8392 - accuracy: 0.7369 - val_loss: 0.7864 - val_accuracy: 0.7938\n",
      "Epoch 52/120\n",
      "23232/23232 [==============================] - 279s 12ms/step - loss: 0.8322 - accuracy: 0.7395 - val_loss: 0.7647 - val_accuracy: 0.7995\n",
      "Epoch 53/120\n",
      "23232/23232 [==============================] - 280s 12ms/step - loss: 0.8240 - accuracy: 0.7420 - val_loss: 0.7885 - val_accuracy: 0.8013\n",
      "Epoch 54/120\n",
      "23232/23232 [==============================] - 284s 12ms/step - loss: 0.8295 - accuracy: 0.7418 - val_loss: 0.8120 - val_accuracy: 0.7967\n",
      "Epoch 55/120\n",
      "23232/23232 [==============================] - 282s 12ms/step - loss: 0.8188 - accuracy: 0.7464 - val_loss: 0.7556 - val_accuracy: 0.8135\n",
      "Epoch 56/120\n",
      "23232/23232 [==============================] - 283s 12ms/step - loss: 0.8075 - accuracy: 0.7465 - val_loss: 0.7749 - val_accuracy: 0.8117\n",
      "Epoch 57/120\n",
      "23232/23232 [==============================] - 285s 12ms/step - loss: 0.8166 - accuracy: 0.7485 - val_loss: 0.7296 - val_accuracy: 0.8162\n",
      "Epoch 58/120\n",
      "23232/23232 [==============================] - 283s 12ms/step - loss: 0.8094 - accuracy: 0.7475 - val_loss: 0.8522 - val_accuracy: 0.7944\n",
      "Epoch 59/120\n",
      "23232/23232 [==============================] - 281s 12ms/step - loss: 0.8125 - accuracy: 0.7485 - val_loss: 0.8118 - val_accuracy: 0.7954\n",
      "Epoch 60/120\n",
      "23232/23232 [==============================] - 280s 12ms/step - loss: 0.7977 - accuracy: 0.7512 - val_loss: 0.8011 - val_accuracy: 0.8054\n",
      "Epoch 61/120\n",
      "23232/23232 [==============================] - 280s 12ms/step - loss: 0.8025 - accuracy: 0.7503 - val_loss: 0.7800 - val_accuracy: 0.8154\n",
      "Epoch 62/120\n",
      "23232/23232 [==============================] - 281s 12ms/step - loss: 0.7990 - accuracy: 0.7497 - val_loss: 0.7572 - val_accuracy: 0.8148\n",
      "Epoch 63/120\n",
      "23232/23232 [==============================] - 282s 12ms/step - loss: 0.7960 - accuracy: 0.7523 - val_loss: 0.7681 - val_accuracy: 0.8107\n",
      "Epoch 64/120\n",
      "23232/23232 [==============================] - 285s 12ms/step - loss: 0.7946 - accuracy: 0.7526 - val_loss: 0.7475 - val_accuracy: 0.8191\n",
      "Epoch 65/120\n",
      "23232/23232 [==============================] - 290s 12ms/step - loss: 0.7835 - accuracy: 0.7547 - val_loss: 0.7699 - val_accuracy: 0.8069\n",
      "Epoch 66/120\n",
      "23232/23232 [==============================] - 282s 12ms/step - loss: 0.7972 - accuracy: 0.7528 - val_loss: 0.8290 - val_accuracy: 0.7953\n",
      "Epoch 67/120\n",
      "23232/23232 [==============================] - 281s 12ms/step - loss: 0.7838 - accuracy: 0.7556 - val_loss: 0.7985 - val_accuracy: 0.8009\n",
      "Epoch 68/120\n",
      "23232/23232 [==============================] - 280s 12ms/step - loss: 0.7713 - accuracy: 0.7601 - val_loss: 0.8635 - val_accuracy: 0.8063\n",
      "Epoch 69/120\n",
      "23232/23232 [==============================] - 281s 12ms/step - loss: 0.7653 - accuracy: 0.7635 - val_loss: 0.7597 - val_accuracy: 0.8129\n",
      "Epoch 70/120\n",
      "23232/23232 [==============================] - 283s 12ms/step - loss: 0.7717 - accuracy: 0.7594 - val_loss: 0.9023 - val_accuracy: 0.7973\n",
      "Epoch 71/120\n",
      "23232/23232 [==============================] - 283s 12ms/step - loss: 0.7796 - accuracy: 0.7584 - val_loss: 0.7534 - val_accuracy: 0.8164\n",
      "Epoch 72/120\n",
      "23232/23232 [==============================] - 285s 12ms/step - loss: 0.7683 - accuracy: 0.7596 - val_loss: 0.7822 - val_accuracy: 0.8091\n",
      "Epoch 73/120\n",
      "23232/23232 [==============================] - 283s 12ms/step - loss: 0.7719 - accuracy: 0.7644 - val_loss: 0.7255 - val_accuracy: 0.8216\n",
      "Epoch 74/120\n",
      "23232/23232 [==============================] - 282s 12ms/step - loss: 0.7629 - accuracy: 0.7621 - val_loss: 0.7294 - val_accuracy: 0.8232\n",
      "Epoch 75/120\n",
      "23232/23232 [==============================] - 284s 12ms/step - loss: 0.7670 - accuracy: 0.7620 - val_loss: 0.8862 - val_accuracy: 0.7949\n",
      "Epoch 76/120\n",
      "23232/23232 [==============================] - 281s 12ms/step - loss: 0.7612 - accuracy: 0.7611 - val_loss: 0.7314 - val_accuracy: 0.8242\n",
      "Epoch 77/120\n",
      "23232/23232 [==============================] - 281s 12ms/step - loss: 0.7521 - accuracy: 0.7663 - val_loss: 0.7388 - val_accuracy: 0.8144\n",
      "Epoch 78/120\n",
      "23232/23232 [==============================] - 279s 12ms/step - loss: 0.7515 - accuracy: 0.7643 - val_loss: 0.7822 - val_accuracy: 0.8164\n",
      "Epoch 79/120\n",
      "23232/23232 [==============================] - 280s 12ms/step - loss: 0.7516 - accuracy: 0.7677 - val_loss: 0.9070 - val_accuracy: 0.8048\n",
      "Epoch 80/120\n",
      "23232/23232 [==============================] - 281s 12ms/step - loss: 0.7427 - accuracy: 0.7717 - val_loss: 0.7499 - val_accuracy: 0.8098\n",
      "Epoch 81/120\n",
      "23232/23232 [==============================] - 285s 12ms/step - loss: 0.7438 - accuracy: 0.7690 - val_loss: 0.8466 - val_accuracy: 0.8022\n",
      "Epoch 82/120\n",
      "23232/23232 [==============================] - 279s 12ms/step - loss: 0.7494 - accuracy: 0.7693 - val_loss: 0.7089 - val_accuracy: 0.8281\n",
      "Epoch 83/120\n",
      "23232/23232 [==============================] - 278s 12ms/step - loss: 0.7509 - accuracy: 0.7676 - val_loss: 0.7533 - val_accuracy: 0.8167\n",
      "Epoch 84/120\n",
      "23232/23232 [==============================] - 281s 12ms/step - loss: 0.7360 - accuracy: 0.7695 - val_loss: 0.7161 - val_accuracy: 0.8295\n",
      "Epoch 85/120\n",
      "23232/23232 [==============================] - 283s 12ms/step - loss: 0.7402 - accuracy: 0.7699 - val_loss: 0.7218 - val_accuracy: 0.8311\n",
      "Epoch 86/120\n",
      "23232/23232 [==============================] - 282s 12ms/step - loss: 0.7350 - accuracy: 0.7707 - val_loss: 0.8024 - val_accuracy: 0.8243\n",
      "Epoch 87/120\n",
      "23232/23232 [==============================] - 281s 12ms/step - loss: 0.7337 - accuracy: 0.7723 - val_loss: 0.7539 - val_accuracy: 0.8266\n",
      "Epoch 88/120\n",
      "23232/23232 [==============================] - 282s 12ms/step - loss: 0.7471 - accuracy: 0.7698 - val_loss: 0.7590 - val_accuracy: 0.8221\n",
      "Epoch 89/120\n",
      "23232/23232 [==============================] - 281s 12ms/step - loss: 0.7386 - accuracy: 0.7711 - val_loss: 0.8654 - val_accuracy: 0.8087\n",
      "Epoch 90/120\n",
      "23232/23232 [==============================] - 279s 12ms/step - loss: 0.7405 - accuracy: 0.7720 - val_loss: 0.7121 - val_accuracy: 0.8307\n",
      "Epoch 91/120\n",
      "23232/23232 [==============================] - 279s 12ms/step - loss: 0.7200 - accuracy: 0.7778 - val_loss: 0.7560 - val_accuracy: 0.8292\n",
      "Epoch 92/120\n",
      "23232/23232 [==============================] - 283s 12ms/step - loss: 0.7165 - accuracy: 0.7771 - val_loss: 0.8291 - val_accuracy: 0.8078\n",
      "Epoch 93/120\n",
      "23232/23232 [==============================] - 281s 12ms/step - loss: 0.7220 - accuracy: 0.7748 - val_loss: 0.8153 - val_accuracy: 0.8136\n",
      "Epoch 94/120\n",
      "23232/23232 [==============================] - 282s 12ms/step - loss: 0.7231 - accuracy: 0.7777 - val_loss: 0.7761 - val_accuracy: 0.8107\n",
      "Epoch 95/120\n",
      "23232/23232 [==============================] - 279s 12ms/step - loss: 0.7209 - accuracy: 0.7779 - val_loss: 0.7663 - val_accuracy: 0.8222\n",
      "Epoch 96/120\n",
      "23232/23232 [==============================] - 281s 12ms/step - loss: 0.7249 - accuracy: 0.7743 - val_loss: 0.8081 - val_accuracy: 0.8112\n",
      "Epoch 97/120\n",
      "23232/23232 [==============================] - 281s 12ms/step - loss: 0.7125 - accuracy: 0.7771 - val_loss: 0.8218 - val_accuracy: 0.8097\n",
      "Epoch 98/120\n",
      "23232/23232 [==============================] - 282s 12ms/step - loss: 0.7181 - accuracy: 0.7769 - val_loss: 0.7567 - val_accuracy: 0.8263\n",
      "Epoch 99/120\n",
      "23232/23232 [==============================] - 282s 12ms/step - loss: 0.7230 - accuracy: 0.7772 - val_loss: 0.7748 - val_accuracy: 0.8137\n",
      "Epoch 100/120\n",
      "23232/23232 [==============================] - 281s 12ms/step - loss: 0.7167 - accuracy: 0.7780 - val_loss: 0.7491 - val_accuracy: 0.8203\n",
      "Epoch 101/120\n",
      "23232/23232 [==============================] - 282s 12ms/step - loss: 0.7075 - accuracy: 0.7818 - val_loss: 0.7473 - val_accuracy: 0.8261\n",
      "Epoch 102/120\n",
      "23232/23232 [==============================] - 282s 12ms/step - loss: 0.7092 - accuracy: 0.7794 - val_loss: 0.8053 - val_accuracy: 0.8191\n",
      "Epoch 103/120\n",
      "23232/23232 [==============================] - 279s 12ms/step - loss: 0.7004 - accuracy: 0.7802 - val_loss: 0.7382 - val_accuracy: 0.8255\n",
      "Epoch 104/120\n",
      "23232/23232 [==============================] - 280s 12ms/step - loss: 0.7148 - accuracy: 0.7790 - val_loss: 0.8140 - val_accuracy: 0.8143\n",
      "Epoch 105/120\n",
      "23232/23232 [==============================] - 285s 12ms/step - loss: 0.7093 - accuracy: 0.7785 - val_loss: 0.7814 - val_accuracy: 0.8223\n",
      "Epoch 106/120\n",
      "23232/23232 [==============================] - 282s 12ms/step - loss: 0.7101 - accuracy: 0.7801 - val_loss: 0.7049 - val_accuracy: 0.8362\n",
      "Epoch 107/120\n",
      "23232/23232 [==============================] - 280s 12ms/step - loss: 0.7008 - accuracy: 0.7831 - val_loss: 0.8080 - val_accuracy: 0.8237\n",
      "Epoch 108/120\n",
      "23232/23232 [==============================] - 284s 12ms/step - loss: 0.7006 - accuracy: 0.7828 - val_loss: 0.7508 - val_accuracy: 0.8249\n",
      "Epoch 109/120\n",
      "23232/23232 [==============================] - 284s 12ms/step - loss: 0.7036 - accuracy: 0.7822 - val_loss: 0.8780 - val_accuracy: 0.8157\n",
      "Epoch 110/120\n",
      "23232/23232 [==============================] - 282s 12ms/step - loss: 0.6916 - accuracy: 0.7837 - val_loss: 0.8129 - val_accuracy: 0.8190\n",
      "Epoch 111/120\n",
      "23232/23232 [==============================] - 284s 12ms/step - loss: 0.6901 - accuracy: 0.7847 - val_loss: 0.7138 - val_accuracy: 0.8353\n",
      "Epoch 112/120\n",
      "23232/23232 [==============================] - 278s 12ms/step - loss: 0.7023 - accuracy: 0.7836 - val_loss: 0.8453 - val_accuracy: 0.8201\n",
      "Epoch 113/120\n",
      "23232/23232 [==============================] - 278s 12ms/step - loss: 0.6980 - accuracy: 0.7853 - val_loss: 0.7681 - val_accuracy: 0.8282\n",
      "Epoch 114/120\n",
      "23232/23232 [==============================] - 283s 12ms/step - loss: 0.6821 - accuracy: 0.7862 - val_loss: 0.8233 - val_accuracy: 0.8236\n",
      "Epoch 115/120\n",
      "23232/23232 [==============================] - 285s 12ms/step - loss: 0.6922 - accuracy: 0.7854 - val_loss: 0.7683 - val_accuracy: 0.8243\n",
      "Epoch 116/120\n",
      "23232/23232 [==============================] - 283s 12ms/step - loss: 0.6890 - accuracy: 0.7870 - val_loss: 0.8085 - val_accuracy: 0.8169\n",
      "Epoch 117/120\n",
      "23232/23232 [==============================] - 282s 12ms/step - loss: 0.6918 - accuracy: 0.7863 - val_loss: 0.7815 - val_accuracy: 0.8249\n",
      "Epoch 118/120\n",
      "23232/23232 [==============================] - 283s 12ms/step - loss: 0.6955 - accuracy: 0.7853 - val_loss: 0.9045 - val_accuracy: 0.8148\n",
      "Epoch 119/120\n",
      "23232/23232 [==============================] - 283s 12ms/step - loss: 0.6951 - accuracy: 0.7847 - val_loss: 0.8622 - val_accuracy: 0.8145\n",
      "Epoch 120/120\n",
      "23232/23232 [==============================] - 283s 12ms/step - loss: 0.6910 - accuracy: 0.7853 - val_loss: 0.9586 - val_accuracy: 0.8043\n"
     ]
    }
   ],
   "source": [
    "history = model.fit(train_generator,\n",
    "                    epochs = 120,\n",
    "                    validation_data=validation_generator)\n",
    "                    # 0.064 0.1579 0.2113 0.2496 0.2760 0.2996"
   ]
  },
  {
   "cell_type": "markdown",
   "id": "cb4f7f59",
   "metadata": {},
   "source": [
    "### The model has achieved ~0.81 accuracy on validation dataset\n",
    "### Save the model"
   ]
  },
  {
   "cell_type": "code",
   "execution_count": 26,
   "id": "62db94ad",
   "metadata": {},
   "outputs": [],
   "source": [
    "model.save('./gmike19_model.h5')"
   ]
  },
  {
   "cell_type": "markdown",
   "id": "bc7db4f0",
   "metadata": {},
   "source": [
    "### Plot loss and classification accuracy graphs for each dataset"
   ]
  },
  {
   "cell_type": "code",
   "execution_count": 85,
   "id": "f7177f57",
   "metadata": {},
   "outputs": [
    {
     "data": {
      "image/png": "[encoded data removed]",
      "text/plain": [
       "<Figure size 1440x432 with 2 Axes>"
      ]
     },
     "metadata": {
      "needs_background": "light"
     },
     "output_type": "display_data"
    }
   ],
   "source": [
    "plt.figure(figsize=(20, 6))\n",
    "plt.subplot(1, 2, 1)\n",
    "plt.title('Cross Entropy Loss')\n",
    "plt.plot(history.history['loss'], color='blue', label='train')\n",
    "plt.plot(history.history['val_loss'], color='orange', label='validation')\n",
    "plt.legend()\n",
    "plt.subplot(1, 2, 2)\n",
    "plt.title('Classification Accuracy')\n",
    "plt.plot(history.history['accuracy'], color='blue', label='train')\n",
    "plt.plot(history.history['val_accuracy'], color='orange', label='validation')\n",
    "plt.legend()\n",
    "plt.show()"
   ]
  },
  {
   "cell_type": "markdown",
   "id": "ad88b109",
   "metadata": {},
   "source": [
    "### Quite close to good fit\n",
    "### Validation loss being slightly lower than training loss can be explained by regularization in the form of dropout layer and also data augmentation. These were applied only to the training dataset thus resulting in it being more \"difficult\" than validation images. This also explains higher classification accuracy for validation."
   ]
  },
  {
   "cell_type": "markdown",
   "id": "fa49b615",
   "metadata": {},
   "source": [
    "### Check model prediction for some image from validation just to see if it works"
   ]
  },
  {
   "cell_type": "code",
   "execution_count": 74,
   "id": "c009da1e",
   "metadata": {},
   "outputs": [
    {
     "name": "stdout",
     "output_type": "stream",
     "text": [
      "Predicted Alphabet is: ფ\n"
     ]
    },
    {
     "data": {
      "image/png": "[encoded data removed]",
      "text/plain": [
       "<Figure size 432x288 with 1 Axes>"
      ]
     },
     "metadata": {
      "needs_background": "light"
     },
     "output_type": "display_data"
    }
   ],
   "source": [
    "filename = r'./images/test/ფ/f_acad_30.png'\n",
    "model = keras.models.load_model('./gmike19_model.h5')\n",
    "image = Image.open(filename).convert('L').resize((45, 45))\n",
    "plt.imshow(image, cmap='gray')\n",
    "image = np.array(image.getdata(), dtype=np.uint8).reshape(image.size[0], image.size[1], number_of_channels)\n",
    "image_array = []\n",
    "image_array.append(image)\n",
    "image_array = np.stack(image_array)\n",
    "image_array = image_array / 255.0\n",
    "result = model(image_array)\n",
    "predicted_letter = list(letter_numbers.keys())[list(letter_numbers.values()).index(np.argmax(result) + 1)]\n",
    "print ('Predicted Alphabet is: {}'.format(predicted_letter))"
   ]
  }
 ],
 "metadata": {
  "kernelspec": {
   "display_name": "Python 3",
   "language": "python",
   "name": "python3"
  },
  "language_info": {
   "codemirror_mode": {
    "name": "ipython",
    "version": 3
   },
   "file_extension": ".py",
   "mimetype": "text/x-python",
   "name": "python",
   "nbconvert_exporter": "python",
   "pygments_lexer": "ipython3",
   "version": "3.6.13"
  }
 },
 "nbformat": 4,
 "nbformat_minor": 5
}
